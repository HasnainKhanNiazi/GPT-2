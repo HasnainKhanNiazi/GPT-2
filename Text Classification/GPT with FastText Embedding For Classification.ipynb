{
  "nbformat": 4,
  "nbformat_minor": 0,
  "metadata": {
    "colab": {
      "name": "gpt-2-fasttext.ipynb",
      "version": "0.3.2",
      "provenance": [],
      "collapsed_sections": []
    },
    "kernelspec": {
      "name": "python3",
      "display_name": "Python 3"
    },
    "accelerator": "TPU"
  },
  "cells": [
    {
      "cell_type": "markdown",
      "metadata": {
        "id": "TqPkDJQeox1X",
        "colab_type": "text"
      },
      "source": [
        "# GPT-2 fasttext"
      ]
    },
    {
      "cell_type": "markdown",
      "metadata": {
        "id": "AAhFWQboos33",
        "colab_type": "text"
      },
      "source": [
        "### Mount the drive"
      ]
    },
    {
      "cell_type": "code",
      "metadata": {
        "id": "Q2i8hO6lgpiL",
        "colab_type": "code",
        "outputId": "b427b75a-1d6b-4f01-bef6-9e3489ecd75a",
        "colab": {
          "base_uri": "https://localhost:8080/",
          "height": 34
        }
      },
      "source": [
        "from google.colab import drive\n",
        "drive.mount(\"/content/drive\")"
      ],
      "execution_count": 0,
      "outputs": [
        {
          "output_type": "stream",
          "text": [
            "Drive already mounted at /content/drive; to attempt to forcibly remount, call drive.mount(\"/content/drive\", force_remount=True).\n"
          ],
          "name": "stdout"
        }
      ]
    },
    {
      "cell_type": "markdown",
      "metadata": {
        "id": "5jK5hhBvo25p",
        "colab_type": "text"
      },
      "source": [
        "### Create necessary folders"
      ]
    },
    {
      "cell_type": "code",
      "metadata": {
        "id": "uNB3U5FTgxhR",
        "colab_type": "code",
        "outputId": "70caf52c-3a70-41bf-8461-83ae920532f1",
        "colab": {
          "base_uri": "https://localhost:8080/",
          "height": 63
        }
      },
      "source": [
        "!mkdir /content/drive/'My Drive'/gpt-2-fasttext\n",
        "%cd /content/drive/'My Drive'/gpt-2-fasttext"
      ],
      "execution_count": 0,
      "outputs": [
        {
          "output_type": "stream",
          "text": [
            "mkdir: cannot create directory ‘/content/drive/My Drive/gpt-2-fasttext’: File exists\n",
            "/content/drive/My Drive/gpt-2-fasttext\n"
          ],
          "name": "stdout"
        }
      ]
    },
    {
      "cell_type": "markdown",
      "metadata": {
        "id": "NcenWEUGo9aL",
        "colab_type": "text"
      },
      "source": [
        "### Download the dataset"
      ]
    },
    {
      "cell_type": "code",
      "metadata": {
        "id": "N6vEk9q-o9E0",
        "colab_type": "code",
        "colab": {}
      },
      "source": [
        "import os\n",
        "import sys\n",
        "import requests\n",
        "\n",
        "def fetch(model, dataset):\n",
        "    filename = model + \".\" + dataset + '.jsonl'\n",
        "    r = requests.get(\"https://storage.googleapis.com/gpt-2/output-dataset/v1/\" + filename, stream=True)\n",
        "\n",
        "    open(filename, 'wb').write(r.content)\n",
        "\n",
        "model = 'xl-1542M-k40' #@param [\"small-117M\", \"small-117M-k40\", \"medium-345M\", \"medium-345M-k40\", \"large-762M\", \"large-762M-k40\", \"xl-1542M\", \"xl-1542M-k40\"]\n",
        "dataset = 'train' #@param [\"train\", \"valid\", \"test\"]\n",
        "\n",
        "fetch(model, dataset)\n",
        "fetch('webtext', dataset)"
      ],
      "execution_count": 0,
      "outputs": []
    },
    {
      "cell_type": "markdown",
      "metadata": {
        "id": "KRx-fnrQsEAC",
        "colab_type": "text"
      },
      "source": [
        "### Convert dataset to fasttext format and save it as `dataset.txt`"
      ]
    },
    {
      "cell_type": "code",
      "metadata": {
        "id": "GLvfisJ9C6Ic",
        "colab_type": "code",
        "colab": {}
      },
      "source": [
        "import json\n",
        "import numpy as np\n",
        "\n",
        "gpt2_path = f'{model}.{dataset}.jsonl'\n",
        "webtext_path = f'webtext.{dataset}.jsonl'\n",
        "\n",
        "output = open(\"dataset.txt\", \"w\")\n",
        "\n",
        "for i, line in enumerate(open(gpt2_path)):\n",
        "    if i >= np.inf:\n",
        "        break\n",
        "        \n",
        "    line = json.loads(line)['text'].replace(\"\\n\", \" \")\n",
        "    output.write(f\"__label__bot {line}\\n\")\n",
        "    \n",
        "for i, line in enumerate(open(webtext_path)):\n",
        "    if i >= np.inf:\n",
        "        break\n",
        "    line = json.loads(line)['text'].replace(\"\\n\", \" \")\n",
        "    output.write(f\"__label__human {line}\\n\")"
      ],
      "execution_count": 0,
      "outputs": []
    },
    {
      "cell_type": "markdown",
      "metadata": {
        "id": "OAaEuqFrtHOI",
        "colab_type": "text"
      },
      "source": [
        "### Verify files are there"
      ]
    },
    {
      "cell_type": "code",
      "metadata": {
        "id": "2bfJIM4OtEwN",
        "colab_type": "code",
        "outputId": "00394ccd-8544-4f0f-e8a6-c6a35dbe9f73",
        "colab": {
          "base_uri": "https://localhost:8080/",
          "height": 80
        }
      },
      "source": [
        "!ls"
      ],
      "execution_count": 0,
      "outputs": [
        {
          "output_type": "stream",
          "text": [
            "dataset.txt\t\t webtext.train.jsonl  xl-1542M-k40.train.jsonl\n",
            "gpt2-fasttext-model.bin  webtext.valid.jsonl  xl-1542M-k40.valid.jsonl\n"
          ],
          "name": "stdout"
        }
      ]
    },
    {
      "cell_type": "markdown",
      "metadata": {
        "id": "myJtHcf4uaJ6",
        "colab_type": "text"
      },
      "source": [
        "### Train fasttext model"
      ]
    },
    {
      "cell_type": "code",
      "metadata": {
        "id": "tnool3SWuZ6H",
        "colab_type": "code",
        "outputId": "ec0f4ecc-7386-41b0-ee38-acd73dbb76bf",
        "colab": {
          "base_uri": "https://localhost:8080/",
          "height": 278
        }
      },
      "source": [
        "!pip install fasttext\n",
        "\n",
        "import fasttext\n",
        "model = fasttext.train_supervised(input='dataset.txt', epoch=50, lr=1.0, wordNgrams=2)\n",
        "model.save_model(\"gpt2-fasttext-model.bin\")"
      ],
      "execution_count": 0,
      "outputs": [
        {
          "output_type": "stream",
          "text": [
            "Collecting fasttext\n",
            "\u001b[?25l  Downloading https://files.pythonhosted.org/packages/10/61/2e01f1397ec533756c1d893c22d9d5ed3fce3a6e4af1976e0d86bb13ea97/fasttext-0.9.1.tar.gz (57kB)\n",
            "\u001b[K     |████████████████████████████████| 61kB 2.6MB/s \n",
            "\u001b[?25hRequirement already satisfied: pybind11>=2.2 in /usr/local/lib/python3.6/dist-packages (from fasttext) (2.3.0)\n",
            "Requirement already satisfied: setuptools>=0.7.0 in /usr/local/lib/python3.6/dist-packages (from fasttext) (41.0.1)\n",
            "Requirement already satisfied: numpy in /usr/local/lib/python3.6/dist-packages (from fasttext) (1.16.4)\n",
            "Building wheels for collected packages: fasttext\n",
            "  Building wheel for fasttext (setup.py) ... \u001b[?25l\u001b[?25hdone\n",
            "  Created wheel for fasttext: filename=fasttext-0.9.1-cp36-cp36m-linux_x86_64.whl size=2384449 sha256=eb58c1bc53775bec817684b20172fc3cb6781d7a4a431ea342df5dc5c4455f05\n",
            "  Stored in directory: /root/.cache/pip/wheels/9f/f0/04/caa82c912aee89ce76358ff954f3f0729b7577c8ff23a292e3\n",
            "Successfully built fasttext\n",
            "Installing collected packages: fasttext\n",
            "Successfully installed fasttext-0.9.1\n"
          ],
          "name": "stdout"
        }
      ]
    },
    {
      "cell_type": "markdown",
      "metadata": {
        "id": "bbRT2BSiumCX",
        "colab_type": "text"
      },
      "source": [
        "### Test fasttext prediction (Unicorn text)"
      ]
    },
    {
      "cell_type": "code",
      "metadata": {
        "id": "nilDr7Y2usIa",
        "colab_type": "code",
        "outputId": "65b3829d-9632-47e7-8e93-bf29a8dc3d5b",
        "colab": {
          "base_uri": "https://localhost:8080/",
          "height": 51
        }
      },
      "source": [
        "import fasttext\n",
        "model = fasttext.load_model(\"gpt2-fasttext-model.bin\")\n",
        "\n",
        "unicorn = \"\"\"\n",
        "The scientist named the population, after their distinctive horn, Ovid’s Unicorn. These four-horned, silver-white unicorns were previously unknown to science.\n",
        "\n",
        "Now, after almost two centuries, the mystery of what sparked this odd phenomenon is finally solved.\n",
        "\n",
        "Dr. Jorge Pérez, an evolutionary biologist from the University of La Paz, and several companions, were exploring the Andes Mountains when they found a small valley, with no other animals or humans. Pérez noticed that the valley had what appeared to be a natural fountain, surrounded by two peaks of rock and silver snow.\n",
        "\n",
        "Pérez and the others then ventured further into the valley. “By the time we reached the top of one peak, the water looked blue, with some crystals on top,” said Pérez.\n",
        "\n",
        "Pérez and his friends were astonished to see the unicorn herd. These creatures could be seen from the air without having to move too much to see them – they were so close they could touch their horns.\n",
        "\n",
        "While examining these bizarre creatures the scientists discovered that the creatures also spoke some fairly regular English. Pérez stated, “We can see, for example, that they have a common ‘language,’ something like a dialect or dialectic.”\n",
        "\n",
        "Dr. Pérez believes that the unicorns may have originated in Argentina, where the animals were believed to be descendants of a lost race of people who lived there before the arrival of humans in those parts of South America.\n",
        "\n",
        "While their origins are still unclear, some believe that perhaps the creatures were created when a human and a unicorn met each other in a time before human civilization. According to Pérez, “In South America, such incidents seem to be quite common.”\n",
        "\n",
        "However, Pérez also pointed out that it is likely that the only way of knowing for sure if unicorns are indeed the descendants of a lost alien race is through DNA. “But they seem to be able to communicate in English quite well, which I believe is a sign of evolution, or at least a change in social organization,” said the scientist.\n",
        "\"\"\"\n",
        "\n",
        "model.predict(unicorn.replace(\"\\n\", \" \"))"
      ],
      "execution_count": 0,
      "outputs": [
        {
          "output_type": "stream",
          "text": [
            "\n"
          ],
          "name": "stderr"
        },
        {
          "output_type": "execute_result",
          "data": {
            "text/plain": [
              "(('__label__human',), array([1.00001001]))"
            ]
          },
          "metadata": {
            "tags": []
          },
          "execution_count": 15
        }
      ]
    }
  ]
}